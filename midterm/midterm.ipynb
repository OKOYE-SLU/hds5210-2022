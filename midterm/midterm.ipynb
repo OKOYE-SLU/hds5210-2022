{
 "cells": [
  {
   "cell_type": "markdown",
   "metadata": {},
   "source": [
    "# HDS5210-2022 Fall Midterm\n",
    "\n",
    "In the midterm exercise, you're going to use all the programming and data management skills you've developed so far to build a pricing calculator that will calculate how much money should be reimbursed for the visits in a CSV file. To do this, you will need to get allowed amounts (aka rates) from a JSON file, apply some special rules, and then calculate various totals by hospital or by month.\n",
    "\n",
    "Each step of the midterm will build up to form your final solution. Along the way, I've provided plenty of test cases to make sure you're getting each step correct.\n",
    "\n",
    "All functions require docstrings with a description and at least one test case.\n",
    "\n",
    "The midterm is due Monday, October 24th at 11:59 PM CST.\n",
    "\n",
    "---"
   ]
  },
  {
   "cell_type": "markdown",
   "metadata": {},
   "source": [
    "## Step 1: Average Rate\n",
    "\n",
    "With the `/data/negotiated_rates.json` file as input for your first function, read all the `allowed_amount` attributes and calculate an average allowed amount over all rates in the file.\n",
    "\n",
    "Your function should be named **average_rate()**, take the file's name as it's input parameter, and return a float as the result.\n",
    "\n",
    "**ROUND YOUR ANSWER TO 2 DECIMAL PLACES**"
   ]
  },
  {
   "cell_type": "code",
   "execution_count": 13,
   "metadata": {},
   "outputs": [],
   "source": [
    "import json\n",
    "import statistics\n",
    "def average_rate(file):\n",
    "    '''\n",
    "   The example supplies one function, average_rate(),all the allowed_amount attributes\n",
    "   and calculate an average allowed amount over all rates in the file.\n",
    "   \n",
    "   >>> average_rate(\"/data/negotiated_rates.json\")\n",
    "   38.67\n",
    "    '''\n",
    "    json_file = json.load(open(file))\n",
    "    allow_amount = json_file['out_of_network']\n",
    "    \n",
    "    new_list = []\n",
    "    for item in allow_amount:\n",
    "        amounts = item['allowed_amounts']\n",
    "        \n",
    "        for item_z in amounts:\n",
    "            z_amounts = item_z['payments']['allowed_amounts']\n",
    "            new_list.append(a_amounts)\n",
    "            new_avg_rate = statistics.mean(new_list)\n",
    "            return round(new_avg_rate,2)"
   ]
  },
  {
   "cell_type": "code",
   "execution_count": 14,
   "metadata": {},
   "outputs": [
    {
     "ename": "JSONDecodeError",
     "evalue": "Expecting value: line 1 column 1 (char 0)",
     "output_type": "error",
     "traceback": [
      "\u001b[0;31m---------------------------------------------------------------------------\u001b[0m",
      "\u001b[0;31mJSONDecodeError\u001b[0m                           Traceback (most recent call last)",
      "\u001b[0;32m<ipython-input-14-56d3b438b5ca>\u001b[0m in \u001b[0;36m<module>\u001b[0;34m\u001b[0m\n\u001b[0;32m----> 1\u001b[0;31m \u001b[0;32massert\u001b[0m\u001b[0;34m(\u001b[0m\u001b[0maverage_rate\u001b[0m\u001b[0;34m(\u001b[0m\u001b[0;34m'/data/negotiated_rates.json'\u001b[0m\u001b[0;34m==\u001b[0m \u001b[0;36m38.67\u001b[0m\u001b[0;34m)\u001b[0m\u001b[0;34m)\u001b[0m\u001b[0;34m\u001b[0m\u001b[0;34m\u001b[0m\u001b[0m\n\u001b[0m",
      "\u001b[0;32m<ipython-input-13-4ee62651aa27>\u001b[0m in \u001b[0;36maverage_rate\u001b[0;34m(file)\u001b[0m\n\u001b[1;32m      9\u001b[0m    \u001b[0;36m38.67\u001b[0m\u001b[0;34m\u001b[0m\u001b[0;34m\u001b[0m\u001b[0m\n\u001b[1;32m     10\u001b[0m     '''\n\u001b[0;32m---> 11\u001b[0;31m     \u001b[0mjson_file\u001b[0m \u001b[0;34m=\u001b[0m \u001b[0mjson\u001b[0m\u001b[0;34m.\u001b[0m\u001b[0mload\u001b[0m\u001b[0;34m(\u001b[0m\u001b[0mopen\u001b[0m\u001b[0;34m(\u001b[0m\u001b[0mfile\u001b[0m\u001b[0;34m)\u001b[0m\u001b[0;34m)\u001b[0m\u001b[0;34m\u001b[0m\u001b[0;34m\u001b[0m\u001b[0m\n\u001b[0m\u001b[1;32m     12\u001b[0m     \u001b[0mallow_amount\u001b[0m \u001b[0;34m=\u001b[0m \u001b[0mjson_file\u001b[0m\u001b[0;34m[\u001b[0m\u001b[0;34m'out_of_network'\u001b[0m\u001b[0;34m]\u001b[0m\u001b[0;34m\u001b[0m\u001b[0;34m\u001b[0m\u001b[0m\n\u001b[1;32m     13\u001b[0m \u001b[0;34m\u001b[0m\u001b[0m\n",
      "\u001b[0;32m/opt/tljh/user/lib/python3.6/json/__init__.py\u001b[0m in \u001b[0;36mload\u001b[0;34m(fp, cls, object_hook, parse_float, parse_int, parse_constant, object_pairs_hook, **kw)\u001b[0m\n\u001b[1;32m    297\u001b[0m         \u001b[0mcls\u001b[0m\u001b[0;34m=\u001b[0m\u001b[0mcls\u001b[0m\u001b[0;34m,\u001b[0m \u001b[0mobject_hook\u001b[0m\u001b[0;34m=\u001b[0m\u001b[0mobject_hook\u001b[0m\u001b[0;34m,\u001b[0m\u001b[0;34m\u001b[0m\u001b[0;34m\u001b[0m\u001b[0m\n\u001b[1;32m    298\u001b[0m         \u001b[0mparse_float\u001b[0m\u001b[0;34m=\u001b[0m\u001b[0mparse_float\u001b[0m\u001b[0;34m,\u001b[0m \u001b[0mparse_int\u001b[0m\u001b[0;34m=\u001b[0m\u001b[0mparse_int\u001b[0m\u001b[0;34m,\u001b[0m\u001b[0;34m\u001b[0m\u001b[0;34m\u001b[0m\u001b[0m\n\u001b[0;32m--> 299\u001b[0;31m         parse_constant=parse_constant, object_pairs_hook=object_pairs_hook, **kw)\n\u001b[0m\u001b[1;32m    300\u001b[0m \u001b[0;34m\u001b[0m\u001b[0m\n\u001b[1;32m    301\u001b[0m \u001b[0;34m\u001b[0m\u001b[0m\n",
      "\u001b[0;32m/opt/tljh/user/lib/python3.6/json/__init__.py\u001b[0m in \u001b[0;36mloads\u001b[0;34m(s, encoding, cls, object_hook, parse_float, parse_int, parse_constant, object_pairs_hook, **kw)\u001b[0m\n\u001b[1;32m    352\u001b[0m             \u001b[0mparse_int\u001b[0m \u001b[0;32mis\u001b[0m \u001b[0;32mNone\u001b[0m \u001b[0;32mand\u001b[0m \u001b[0mparse_float\u001b[0m \u001b[0;32mis\u001b[0m \u001b[0;32mNone\u001b[0m \u001b[0;32mand\u001b[0m\u001b[0;34m\u001b[0m\u001b[0;34m\u001b[0m\u001b[0m\n\u001b[1;32m    353\u001b[0m             parse_constant is None and object_pairs_hook is None and not kw):\n\u001b[0;32m--> 354\u001b[0;31m         \u001b[0;32mreturn\u001b[0m \u001b[0m_default_decoder\u001b[0m\u001b[0;34m.\u001b[0m\u001b[0mdecode\u001b[0m\u001b[0;34m(\u001b[0m\u001b[0ms\u001b[0m\u001b[0;34m)\u001b[0m\u001b[0;34m\u001b[0m\u001b[0;34m\u001b[0m\u001b[0m\n\u001b[0m\u001b[1;32m    355\u001b[0m     \u001b[0;32mif\u001b[0m \u001b[0mcls\u001b[0m \u001b[0;32mis\u001b[0m \u001b[0;32mNone\u001b[0m\u001b[0;34m:\u001b[0m\u001b[0;34m\u001b[0m\u001b[0;34m\u001b[0m\u001b[0m\n\u001b[1;32m    356\u001b[0m         \u001b[0mcls\u001b[0m \u001b[0;34m=\u001b[0m \u001b[0mJSONDecoder\u001b[0m\u001b[0;34m\u001b[0m\u001b[0;34m\u001b[0m\u001b[0m\n",
      "\u001b[0;32m/opt/tljh/user/lib/python3.6/json/decoder.py\u001b[0m in \u001b[0;36mdecode\u001b[0;34m(self, s, _w)\u001b[0m\n\u001b[1;32m    337\u001b[0m \u001b[0;34m\u001b[0m\u001b[0m\n\u001b[1;32m    338\u001b[0m         \"\"\"\n\u001b[0;32m--> 339\u001b[0;31m         \u001b[0mobj\u001b[0m\u001b[0;34m,\u001b[0m \u001b[0mend\u001b[0m \u001b[0;34m=\u001b[0m \u001b[0mself\u001b[0m\u001b[0;34m.\u001b[0m\u001b[0mraw_decode\u001b[0m\u001b[0;34m(\u001b[0m\u001b[0ms\u001b[0m\u001b[0;34m,\u001b[0m \u001b[0midx\u001b[0m\u001b[0;34m=\u001b[0m\u001b[0m_w\u001b[0m\u001b[0;34m(\u001b[0m\u001b[0ms\u001b[0m\u001b[0;34m,\u001b[0m \u001b[0;36m0\u001b[0m\u001b[0;34m)\u001b[0m\u001b[0;34m.\u001b[0m\u001b[0mend\u001b[0m\u001b[0;34m(\u001b[0m\u001b[0;34m)\u001b[0m\u001b[0;34m)\u001b[0m\u001b[0;34m\u001b[0m\u001b[0;34m\u001b[0m\u001b[0m\n\u001b[0m\u001b[1;32m    340\u001b[0m         \u001b[0mend\u001b[0m \u001b[0;34m=\u001b[0m \u001b[0m_w\u001b[0m\u001b[0;34m(\u001b[0m\u001b[0ms\u001b[0m\u001b[0;34m,\u001b[0m \u001b[0mend\u001b[0m\u001b[0;34m)\u001b[0m\u001b[0;34m.\u001b[0m\u001b[0mend\u001b[0m\u001b[0;34m(\u001b[0m\u001b[0;34m)\u001b[0m\u001b[0;34m\u001b[0m\u001b[0;34m\u001b[0m\u001b[0m\n\u001b[1;32m    341\u001b[0m         \u001b[0;32mif\u001b[0m \u001b[0mend\u001b[0m \u001b[0;34m!=\u001b[0m \u001b[0mlen\u001b[0m\u001b[0;34m(\u001b[0m\u001b[0ms\u001b[0m\u001b[0;34m)\u001b[0m\u001b[0;34m:\u001b[0m\u001b[0;34m\u001b[0m\u001b[0;34m\u001b[0m\u001b[0m\n",
      "\u001b[0;32m/opt/tljh/user/lib/python3.6/json/decoder.py\u001b[0m in \u001b[0;36mraw_decode\u001b[0;34m(self, s, idx)\u001b[0m\n\u001b[1;32m    355\u001b[0m             \u001b[0mobj\u001b[0m\u001b[0;34m,\u001b[0m \u001b[0mend\u001b[0m \u001b[0;34m=\u001b[0m \u001b[0mself\u001b[0m\u001b[0;34m.\u001b[0m\u001b[0mscan_once\u001b[0m\u001b[0;34m(\u001b[0m\u001b[0ms\u001b[0m\u001b[0;34m,\u001b[0m \u001b[0midx\u001b[0m\u001b[0;34m)\u001b[0m\u001b[0;34m\u001b[0m\u001b[0;34m\u001b[0m\u001b[0m\n\u001b[1;32m    356\u001b[0m         \u001b[0;32mexcept\u001b[0m \u001b[0mStopIteration\u001b[0m \u001b[0;32mas\u001b[0m \u001b[0merr\u001b[0m\u001b[0;34m:\u001b[0m\u001b[0;34m\u001b[0m\u001b[0;34m\u001b[0m\u001b[0m\n\u001b[0;32m--> 357\u001b[0;31m             \u001b[0;32mraise\u001b[0m \u001b[0mJSONDecodeError\u001b[0m\u001b[0;34m(\u001b[0m\u001b[0;34m\"Expecting value\"\u001b[0m\u001b[0;34m,\u001b[0m \u001b[0ms\u001b[0m\u001b[0;34m,\u001b[0m \u001b[0merr\u001b[0m\u001b[0;34m.\u001b[0m\u001b[0mvalue\u001b[0m\u001b[0;34m)\u001b[0m \u001b[0;32mfrom\u001b[0m \u001b[0;32mNone\u001b[0m\u001b[0;34m\u001b[0m\u001b[0;34m\u001b[0m\u001b[0m\n\u001b[0m\u001b[1;32m    358\u001b[0m         \u001b[0;32mreturn\u001b[0m \u001b[0mobj\u001b[0m\u001b[0;34m,\u001b[0m \u001b[0mend\u001b[0m\u001b[0;34m\u001b[0m\u001b[0;34m\u001b[0m\u001b[0m\n",
      "\u001b[0;31mJSONDecodeError\u001b[0m: Expecting value: line 1 column 1 (char 0)"
     ]
    }
   ],
   "source": [
    "assert(average_rate('/data/negotiated_rates.json'== 38.67))"
   ]
  },
  {
   "cell_type": "code",
   "execution_count": null,
   "metadata": {},
   "outputs": [],
   "source": []
  },
  {
   "cell_type": "markdown",
   "metadata": {},
   "source": [
    "---\n",
    "\n",
    "## Step 2: Rate for a Billing Code / Service Code Combination\n",
    "\n",
    "For the next step, we need to be able to look up the allowed amount for any given billing code / service code combination.\n",
    "\n",
    "In this data, the billing code represents the service or procedure that was provided. The service code represents the type of site where the service was provided.\n",
    "\n",
    "Your function should be named **get_rate()** and take three parameters: the JSON file name, the billing code, and the service code. If your code can't find that combination in the file, it should return None."
   ]
  },
  {
   "cell_type": "code",
   "execution_count": null,
   "metadata": {},
   "outputs": [],
   "source": [
    "import json\n",
    "\n",
    "def get_rate(file, billing_code, service_code):\n",
    "    '''\n",
    "    The example supplies one function, get_rate(), taking three parameters:\n",
    "    the JSON file name, the billing code, and the service code.\n",
    "    If the code can't find that combination in the file, it should return None.\n",
    "    >>> get_rate('/data/negotiated_rates.json','G0283', '11')\n",
    "    8.78\n",
    "    \n",
    "    >>> get_rate('/data/negotiated_rates.json','97140','11')\n",
    "    20.03\n",
    "    \n",
    "    '''\n",
    "    json_file = json.load(open(file))\n",
    "    \n",
    "    list = []\n",
    "    for report in json_file['out_of_network']:\n",
    "        billing_code = report['billing_code'] \n",
    "        allowed_amount = report['allowed_amounts']\n",
    "        \n",
    "    \n",
    "        for report_record in allowed_amount:\n",
    "            service_code = report_record['service_code']\n",
    "            record_amounts = report_record['payments']['allowed_amount']\n",
    "            list.append([record_amounts,billing_code,service_code])\n",
    "            \n",
    "            if service_code == service_code and billing_code == billing_code:\n",
    "                return record_amounts"
   ]
  },
  {
   "cell_type": "code",
   "execution_count": null,
   "metadata": {},
   "outputs": [],
   "source": [
    "assert (get_rate('/data/negotiated_rates.json','G0283','11') == 8.78)\n",
    "assert (get_rate('/data/negotiated_rates.json','97140','11') == 20.03)\n",
    "assert (get_rate('/data/negotiated_rates.json','97110','12') == 26.62)"
   ]
  },
  {
   "cell_type": "code",
   "execution_count": null,
   "metadata": {},
   "outputs": [],
   "source": []
  },
  {
   "cell_type": "code",
   "execution_count": null,
   "metadata": {},
   "outputs": [],
   "source": []
  },
  {
   "cell_type": "code",
   "execution_count": null,
   "metadata": {},
   "outputs": [],
   "source": []
  },
  {
   "cell_type": "markdown",
   "metadata": {},
   "source": [
    "---\n",
    "\n",
    "## Part 3: Special Rules for Rates\n",
    "\n",
    "There are some special rules for adjusting rates depending on a patient's age and the day of week.  (These are made up. Not from the real world.) In the next part of the midterm, you'll need to create a function that applies these extra rules to a rate and return the adjusted value.\n",
    "\n",
    "1. If the day of week is Monday, charge only 75% of the allowed amount.\n",
    "2. If the patient's age is 65 or higher, charge only 50% of the allowed amount.\n",
    "3. If's both Monday and the patient's age is 65 or higher, charge only 50% of the allowed amount.\n",
    "4. If neither of these conditions are true, charge the whole amount.\n",
    "\n",
    "Your function should be named **get_adjusted_rate()** and take five parameters: file name, billing code, service code, patient age, and visit date.  Your function should return the adjusted rate (based on the rules above) or None if the rate couldn't be found in the file.\n",
    "\n",
    "Note that your function will take a date in the form `%Y-%m-%d` ([see datetime.strptime()](https://docs.python.org/3/library/datetime.html#datetime.datetime.strptime)) and will need to calculate the [day of week](https://docs.python.org/3/library/datetime.html#datetime.date.weekday).\n",
    "\n",
    "**ROUND YOUR ANSWER TO 2 DECIMAL PLACES**"
   ]
  },
  {
   "cell_type": "code",
   "execution_count": null,
   "metadata": {},
   "outputs": [],
   "source": [
    "from datetime import datetime\n",
    "\n",
    "\n",
    "def get_adjusted_rate(file, billing_code, service_code, age_of_patient, day_of_visit):\n",
    "    '''The example supplies one function, get adjusted rate(),\n",
    "   If the day of week is Monday, charge only 75% of the allowed amount.\n",
    "   If the patients age is 65 or higher, charge only 50% of the allowed amount.\n",
    "   If's both Monday and the patient's age is 65 or higher charge only 50% of allowed amount.\n",
    "   If neither of these conditions are true, charge the whole amount,\n",
    "   >>> get_adjusted_rate(/data/negotiated_rates.json','G0283','11',22,'2022-01-07),\n",
    "   8.78\n",
    "   \n",
    "  >>› get adjusted rate('/data/negotiatedd_rates.json', 'G0283', '11', 22, '2022-01-03)'\n",
    "  6.58\n",
    "  '''\n",
    "    json_file = json.load(open(file))\n",
    "    day_of_visit = datetime.strptime(day_of_visit, '%Y-%m-%d')\n",
    "    \n",
    "    list =[]\n",
    "    for report in json_file['out_of_network']:\n",
    "        billing_code = report['billing_code']\n",
    "        allowed_amount = report['allowed_amounts']\n",
    "        \n",
    "        for report_record in allowed_amount:\n",
    "            record_amount = report_record['payments']['allowed_amount']\n",
    "            service_code = report_record['service_code']\n",
    "            list.append([record_amount, billing_code,service_code])\n",
    "            \n",
    "            if billing_code == billing_code and service_code == service_code:\n",
    "                if age_of_patient >= 65:\n",
    "                    return round(record_amount * 0.5, 2)\n",
    "                elif day_of_visit.weekday() == 0:\n",
    "                    return round(record_amount * 0.75, 2)\n",
    "                else: \n",
    "                    return round(record_amount, 2)\n",
    "        "
   ]
  },
  {
   "cell_type": "code",
   "execution_count": null,
   "metadata": {},
   "outputs": [],
   "source": [
    "assert (get_adjusted_rate('/data/negotiated_rates.json','G0283','11',22,'2022-01-07') == 8.78)\n",
    "assert (get_adjusted_rate('/data/negotiated_rates.json','G0283','11',22,'2022-01-03') == 6.58)\n",
    "assert (get_adjusted_rate('/data/negotiated_rates.json','G0283','11',76,'2022-01-03') == 4.39)\n",
    "assert (get_adjusted_rate('/data/negotiated_rates.json','G0283','11',76,'2022-01-08') == 4.39)"
   ]
  },
  {
   "cell_type": "code",
   "execution_count": null,
   "metadata": {},
   "outputs": [],
   "source": []
  },
  {
   "cell_type": "markdown",
   "metadata": {},
   "source": [
    "---\n",
    "\n",
    "## Step 4: Calculate total payments for a list of visits\n",
    "\n",
    "Last step, we're going to put your get_adjusted_rate() function to work on a list of visits from a few hospitals in the St. Louis region.\n",
    "\n",
    "Your last function, **summarize_reimbursement()** needs to read an encounter file and the negotiated rates file, compute an adjusted rate for each encounter (row) in the input file, and return two dictionaries of information:\n",
    "1. Total expected reimbursement by month\n",
    "2. Total expected reimbursement by hospital\n",
    "\n",
    "Your should be able to run your function as `by_month, by_hospital = summarize_reimbursement(visits, negotiated_rates)` and have the two answers below:\n",
    "\n",
    "**by_month**\n",
    "```json\n",
    "{\n",
    "    '2021-05': 192.38,\n",
    "    '2021-03': 378.72,\n",
    "    '2021-07': 277.67,\n",
    "    '2021-06': 236.53,\n",
    "    '2021-11': 229.7,\n",
    "    '2021-10': 234.52,\n",
    "    '2021-12': 297.87,\n",
    "    '2021-04': 337.7,\n",
    "    '2021-09': 160.4,\n",
    "    '2021-01': 111.91,\n",
    "    '2021-02': 158.55,\n",
    "    '2021-08': 152.28\n",
    "}\n",
    "```\n",
    "\n",
    "**by_hospital**\n",
    "```json\n",
    "{\n",
    "    'Missouri Baptist': 514.18,\n",
    "    'SSM DePaul': 460.02,\n",
    "    'SLU Hospital': 409.67,\n",
    "    'Barnes Jewish': 485.7,\n",
    "    'Mercy Springfield': 518.59,\n",
    "    'Mercy St. Louis': 380.07\n",
    "}\n",
    "```\n",
    "\n",
    "**Round your totals to 2 decimal places**\n",
    "\n",
    "**If rates are not found, just ignore them**"
   ]
  },
  {
   "cell_type": "code",
   "execution_count": null,
   "metadata": {},
   "outputs": [],
   "source": [
    "'''\n",
    "   This example supplies one function summarize_reimbursement()\n",
    "   Total expected reimbursement by month, \n",
    "   Total expected reimbursement by hospital\n",
    "   >>> summarize_reimbursement('/data/visits.csv','/data/negotiated_rates.json')[0]['2021-07'] \n",
    "   277.67)\n",
    "'''\n",
    "by_hospital = {}\n",
    "by_month ={}\n",
    "with open (visits, newline='') as csvfile:\n",
    "    rows = csv.reader(csvfile)\n",
    "    next(rows)\n",
    "    for rows in rows:\n",
    "        hospital = row[1], age_of_patient = (row[3]), billing_code = row[4], service_code = row[5], day_of_visit =row[6]\n",
    "        adjusted_rate = get_adjusted_rate(negotiated_rates, billing_code, service_code, age_of_patient, day_of_visit)\n",
    "        \n",
    "        if adjusted_rate is not None:\n",
    "            if day_of_visit[:7] in by_month:\n",
    "                by_month[day_of_visit[:7]] = by_month[day_of_visit[:7]] + adjusted_rate\n",
    "            else:\n",
    "                by_month[day_of_visit[:7]] = adjusted_rate\n",
    "            if hospital in by_hospital:\n",
    "                by_hospital[hospital] = by_hospital[hospital] + adjusted_rate\n",
    "            else:\n",
    "                by_hospital[hospital] = adjusted_rate\n",
    "                    \n",
    "            for months, adj_rate in month.report():\n",
    "                by_month[months] = round(adj_rate, 2)\n",
    "            for hospital, adj_rate in by_hospital.report():\n",
    "                by_hospital[hospitals] = round(adj_rate, 2)\n",
    "                \n",
    "        return by_month,by_hospital     "
   ]
  },
  {
   "cell_type": "code",
   "execution_count": null,
   "metadata": {},
   "outputs": [],
   "source": [
    "summarize_reimbursement('/data/visits.csv','/data/negotiated_rates.json')"
   ]
  },
  {
   "cell_type": "code",
   "execution_count": null,
   "metadata": {},
   "outputs": [],
   "source": [
    "assert (summarize_reimbursement('/data/visits.csv','/data/negotiated_rates.json')[0]['2021-07'] == 277.67)\n",
    "assert (summarize_reimbursement('/data/visits.csv','/data/negotiated_rates.json')[0]['2021-03'] == 378.72)\n",
    "assert (summarize_reimbursement('/data/visits.csv','/data/negotiated_rates.json')[1]['Mercy St. Louis'] == 380.07)\n",
    "assert (summarize_reimbursement('/data/visits.csv','/data/negotiated_rates.json')[1]['Mercy Springfield'] == 518.59)"
   ]
  },
  {
   "cell_type": "code",
   "execution_count": null,
   "metadata": {},
   "outputs": [],
   "source": []
  }
 ],
 "metadata": {
  "kernelspec": {
   "display_name": "Python 3",
   "language": "python",
   "name": "python3"
  },
  "language_info": {
   "codemirror_mode": {
    "name": "ipython",
    "version": 3
   },
   "file_extension": ".py",
   "mimetype": "text/x-python",
   "name": "python",
   "nbconvert_exporter": "python",
   "pygments_lexer": "ipython3",
   "version": "3.6.7"
  }
 },
 "nbformat": 4,
 "nbformat_minor": 4
}
